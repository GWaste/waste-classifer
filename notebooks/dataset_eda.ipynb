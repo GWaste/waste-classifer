{
  "nbformat": 4,
  "nbformat_minor": 0,
  "metadata": {
    "colab": {
      "name": "dataset-02-eda.ipynb",
      "provenance": []
    },
    "kernelspec": {
      "name": "python3",
      "display_name": "Python 3"
    },
    "language_info": {
      "name": "python"
    }
  },
  "cells": [
    {
      "cell_type": "code",
      "metadata": {
        "id": "c77mQTSF0gJs",
        "colab": {
          "base_uri": "https://localhost:8080/"
        },
        "outputId": "04d86cd9-9576-4119-8d16-30b35584a00f"
      },
      "source": [
        "from google.colab import drive\n",
        "drive.mount(\"drive\", force_remount=True)"
      ],
      "execution_count": 1,
      "outputs": [
        {
          "output_type": "stream",
          "text": [
            "Mounted at drive\n"
          ],
          "name": "stdout"
        }
      ]
    },
    {
      "cell_type": "markdown",
      "metadata": {
        "id": "71BzH6Z3EXH2"
      },
      "source": [
        "This notebook assumes that dataset-resized.zip from already extracted to Shared Drives (folder name: `B21-CAP0331`), into `dataset/dataset-resized`"
      ]
    },
    {
      "cell_type": "code",
      "metadata": {
        "id": "S_8Kgua98rjF",
        "colab": {
          "base_uri": "https://localhost:8080/"
        },
        "outputId": "193c607f-396a-4142-9cf7-778300f074cb"
      },
      "source": [
        "import os\n",
        "\n",
        "classes = [\"cardboard\", \"glass\", \"metal\", \"paper\", \"plastic\"]\n",
        "counts = []\n",
        "for class_ in classes:\n",
        "  folderPath = \"/content/drive/Shareddrives/B21-CAP0331/dataset/dataset-resized/\" + class_\n",
        "  count = len([name for name in os.listdir(folderPath) if os.path.isfile(os.path.join(folderPath, name))])\n",
        "  counts.append(count)\n",
        "  print(class_, count)"
      ],
      "execution_count": 2,
      "outputs": [
        {
          "output_type": "stream",
          "text": [
            "cardboard 403\n",
            "glass 501\n",
            "metal 410\n",
            "paper 630\n",
            "plastic 565\n"
          ],
          "name": "stdout"
        }
      ]
    },
    {
      "cell_type": "code",
      "metadata": {
        "colab": {
          "base_uri": "https://localhost:8080/",
          "height": 298
        },
        "id": "1FZgIweGyT2h",
        "outputId": "22ffa8ac-2a04-4572-c1a6-e82f0cd3fbd0"
      },
      "source": [
        "import matplotlib.pyplot as plt\n",
        "plt.style.use('dark_background')\n",
        "plt.bar(classes, counts)\n",
        "plt.title(\"Class Distribution (without trash)\")"
      ],
      "execution_count": 4,
      "outputs": [
        {
          "output_type": "execute_result",
          "data": {
            "text/plain": [
              "Text(0.5, 1.0, 'Class Distribution (without trash)')"
            ]
          },
          "metadata": {
            "tags": []
          },
          "execution_count": 4
        },
        {
          "output_type": "display_data",
          "data": {
            "image/png": "[encoded data removed]",
            "text/plain": [
              "<Figure size 432x288 with 1 Axes>"
            ]
          },
          "metadata": {
            "tags": []
          }
        }
      ]
    },
    {
      "cell_type": "code",
      "metadata": {
        "colab": {
          "base_uri": "https://localhost:8080/",
          "height": 298
        },
        "id": "Syfvign2YcBu",
        "outputId": "177b820e-e83f-460c-cc95-20c80229321e"
      },
      "source": [
        "plt.style.use('dark_background')\n",
        "plt.bar(classes + [\"trash\"], counts + [137])\n",
        "plt.title(\"Class Distribution (with trash)\")"
      ],
      "execution_count": 5,
      "outputs": [
        {
          "output_type": "execute_result",
          "data": {
            "text/plain": [
              "Text(0.5, 1.0, 'Class Distribution (with trash)')"
            ]
          },
          "metadata": {
            "tags": []
          },
          "execution_count": 5
        },
        {
          "output_type": "display_data",
          "data": {
            "image/png": "[encoded data removed]",
            "text/plain": [
              "<Figure size 432x288 with 1 Axes>"
            ]
          },
          "metadata": {
            "tags": []
          }
        }
      ]
    }
  ]
}