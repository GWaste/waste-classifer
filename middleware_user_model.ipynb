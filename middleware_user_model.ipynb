{
  "nbformat": 4,
  "nbformat_minor": 0,
  "metadata": {
    "colab": {
      "name": "middleware-user-model",
      "provenance": [],
      "collapsed_sections": [],
      "toc_visible": true
    },
    "kernelspec": {
      "name": "python3",
      "display_name": "Python 3"
    },
    "language_info": {
      "name": "python"
    }
  },
  "cells": [
    {
      "cell_type": "markdown",
      "metadata": {
        "id": "lZVrPbts0c9q"
      },
      "source": [
        "# Middleware Cloud Function User-Model"
      ]
    },
    {
      "cell_type": "markdown",
      "metadata": {
        "id": "D94RvY4xtME2"
      },
      "source": [
        "## Import Library"
      ]
    },
    {
      "cell_type": "code",
      "metadata": {
        "id": "n7MSHmfStIgt"
      },
      "source": [
        "import numpy as np\n",
        "import json\n",
        "import base64\n",
        "import googleapiclient.discovery\n",
        "\n",
        "from PIL import Image\n",
        "from io import BytesIO\n",
        "from flask import current_app as app"
      ],
      "execution_count": null,
      "outputs": []
    },
    {
      "cell_type": "markdown",
      "metadata": {
        "id": "b5Hdxph-2LK8"
      },
      "source": [
        "## Inference Function"
      ]
    },
    {
      "cell_type": "markdown",
      "metadata": {
        "id": "8pX3HhCd18d7"
      },
      "source": [
        "### Constans Model Location"
      ]
    },
    {
      "cell_type": "code",
      "metadata": {
        "id": "B0LnH7T4t5QG"
      },
      "source": [
        "PROJECT = 'cosmic-quarter-312712'\n",
        "MODEL = 'waste'"
      ],
      "execution_count": null,
      "outputs": []
    },
    {
      "cell_type": "markdown",
      "metadata": {
        "id": "LMvF1Rzm2PZ8"
      },
      "source": [
        "### Payload Helper"
      ]
    },
    {
      "cell_type": "code",
      "metadata": {
        "id": "VF5RxgCwtIcQ"
      },
      "source": [
        "def _generate_payload(images):\n",
        "    return {\"instances\": images}"
      ],
      "execution_count": null,
      "outputs": []
    },
    {
      "cell_type": "markdown",
      "metadata": {
        "id": "-Tn5ftMW2Seq"
      },
      "source": [
        "### Request Helper"
      ]
    },
    {
      "cell_type": "code",
      "metadata": {
        "id": "f2fO76qJtIWx"
      },
      "source": [
        "def _get_model_prediction(service, project, model='demo_model',\n",
        "                          version=None, body=None):\n",
        "    if body is None:\n",
        "        raise NotImplementedError(\n",
        "            f\"_get_model_prediction didn't get any payload for model {model}\")\n",
        "\n",
        "    url = f'projects/{project}/models/{model}'\n",
        "    if version:\n",
        "        url += f'/versions/{version}'\n",
        "\n",
        "    response = service.projects().predict(name=url, body=body).execute()\n",
        "    return response"
      ],
      "execution_count": null,
      "outputs": []
    },
    {
      "cell_type": "code",
      "metadata": {
        "id": "aPiTflfNtIT6"
      },
      "source": [
        "def _connect_service():\n",
        "    kwargs = {'serviceName': 'ml', 'version': 'v1'}\n",
        "    return googleapiclient.discovery.build(**kwargs)"
      ],
      "execution_count": null,
      "outputs": []
    },
    {
      "cell_type": "code",
      "metadata": {
        "id": "UBkK2hreuxR3"
      },
      "source": [
        "def _preprocessing_image(img_64_encode):\n",
        "  img_64_decode = base64.decodebytes(img_64_encode)\n",
        "  img = Image.open(BytesIO(base64.b64decode(img_64_encode)))\n",
        "\n",
        "  # resize\n",
        "  size = (256,256)\n",
        "  img = img.resize(size)\n",
        "  img = np.array(img)\n",
        "  xs = np.array([ img ])\n",
        "\n",
        "  return xs.tolist()"
      ],
      "execution_count": null,
      "outputs": []
    },
    {
      "cell_type": "code",
      "metadata": {
        "id": "_EyyDFL3tIRk"
      },
      "source": [
        "def get_inference_image(request):\n",
        "    request_json = request.get_json(silent=True)\n",
        "    image = request_json['image'] # base64\n",
        "\n",
        "    image = _preprocessing_image(image)\n",
        "\n",
        "    service = _connect_service()\n",
        "    project = PROJECT\n",
        "    model = MODEL\n",
        "    response = _get_model_prediction(service, project,\n",
        "                                     model=model,\n",
        "                                     body=_generate_payload(image))\n",
        "    return json.dumps(response)"
      ],
      "execution_count": null,
      "outputs": []
    },
    {
      "cell_type": "markdown",
      "metadata": {
        "id": "pjOwmLV_wd94"
      },
      "source": [
        "## Testing"
      ]
    },
    {
      "cell_type": "code",
      "metadata": {
        "colab": {
          "base_uri": "https://localhost:8080/",
          "height": 35
        },
        "id": "gwJuCFkBtIOt",
        "outputId": "f199891f-2b04-4e7a-d0e2-024d209e3567"
      },
      "source": [
        "# img = open('cardboard1.jpg', 'rb')\n",
        "# img_read = img.read()\n",
        "# img_64_encode = base64.encodebytes(img_read)\n",
        "# get_inference_image(img_64_encode)"
      ],
      "execution_count": null,
      "outputs": [
        {
          "output_type": "execute_result",
          "data": {
            "application/vnd.google.colaboratory.intrinsic+json": {
              "type": "string"
            },
            "text/plain": [
              "'{\"predictions\": [{\"dense\": [0.9994144439697266, 0.00010214486246695742, 0.00012465484905987978, 0.0003468661743681878, 1.2077418432454579e-05]}]}'"
            ]
          },
          "metadata": {
            "tags": []
          },
          "execution_count": 34
        }
      ]
    }
  ]
}