{
  "nbformat": 4,
  "nbformat_minor": 0,
  "metadata": {
    "colab": {
      "name": "middleware-user-model",
      "provenance": [],
      "collapsed_sections": [],
      "toc_visible": true
    },
    "kernelspec": {
      "name": "python3",
      "display_name": "Python 3"
    },
    "language_info": {
      "name": "python"
    }
  },
  "cells": [
    {
      "cell_type": "markdown",
      "metadata": {
        "id": "lZVrPbts0c9q"
      },
      "source": [
        "# Middleware Cloud Function User-Model"
      ]
    },
    {
      "cell_type": "markdown",
      "metadata": {
        "id": "D94RvY4xtME2"
      },
      "source": [
        "## Import Library"
      ]
    },
    {
      "cell_type": "code",
      "metadata": {
        "id": "n7MSHmfStIgt"
      },
      "source": [
        "import numpy as np\n",
        "import json\n",
        "import base64\n",
        "import googleapiclient.discovery\n",
        "\n",
        "from PIL import Image\n",
        "from io import BytesIO\n",
        "from flask import current_app as app"
      ],
      "execution_count": 1,
      "outputs": []
    },
    {
      "cell_type": "markdown",
      "metadata": {
        "id": "b5Hdxph-2LK8"
      },
      "source": [
        "## Inference Function"
      ]
    },
    {
      "cell_type": "code",
      "metadata": {
        "id": "nODQdOJS4p7p"
      },
      "source": [
        "# dev\n",
        "# from google.colab import auth\n",
        "# auth.authenticate_user()"
      ],
      "execution_count": 2,
      "outputs": []
    },
    {
      "cell_type": "markdown",
      "metadata": {
        "id": "8pX3HhCd18d7"
      },
      "source": [
        "### Constans Model Location"
      ]
    },
    {
      "cell_type": "code",
      "metadata": {
        "id": "B0LnH7T4t5QG"
      },
      "source": [
        "PROJECT = 'cosmic-quarter-312712'\n",
        "MODEL = 'waste'\n",
        "LIST_LABELS = ['cardboard', 'glass', 'metal', 'paper', 'plastic']"
      ],
      "execution_count": 3,
      "outputs": []
    },
    {
      "cell_type": "markdown",
      "metadata": {
        "id": "LMvF1Rzm2PZ8"
      },
      "source": [
        "### Payload Helper"
      ]
    },
    {
      "cell_type": "code",
      "metadata": {
        "id": "VF5RxgCwtIcQ"
      },
      "source": [
        "def _generate_payload(images):\n",
        "    return {\"instances\": images}"
      ],
      "execution_count": 4,
      "outputs": []
    },
    {
      "cell_type": "markdown",
      "metadata": {
        "id": "-Tn5ftMW2Seq"
      },
      "source": [
        "### Request Helper"
      ]
    },
    {
      "cell_type": "code",
      "metadata": {
        "id": "f2fO76qJtIWx"
      },
      "source": [
        "def _get_model_prediction(service, project, model='demo_model',\n",
        "                          version=None, body=None):\n",
        "    if body is None:\n",
        "        raise NotImplementedError(\n",
        "            f\"_get_model_prediction didn't get any payload for model {model}\")\n",
        "\n",
        "    url = f'projects/{project}/models/{model}'\n",
        "    if version:\n",
        "        url += f'/versions/{version}'\n",
        "\n",
        "    response = service.projects().predict(name=url, body=body).execute()\n",
        "    return response"
      ],
      "execution_count": 5,
      "outputs": []
    },
    {
      "cell_type": "code",
      "metadata": {
        "id": "aPiTflfNtIT6"
      },
      "source": [
        "def _connect_service():\n",
        "    kwargs = {'serviceName': 'ml', 'version': 'v1'}\n",
        "    return googleapiclient.discovery.build(**kwargs)"
      ],
      "execution_count": 6,
      "outputs": []
    },
    {
      "cell_type": "code",
      "metadata": {
        "id": "UBkK2hreuxR3"
      },
      "source": [
        "def _preprocessing_image(img_64_encode):\n",
        "  img_64_decode = base64.b64decode(img_64_encode)\n",
        "  img = Image.open(BytesIO(base64.b64decode(img_64_encode)))\n",
        "\n",
        "  # resize\n",
        "  size = (256,256)\n",
        "  img = img.resize(size)\n",
        "  img = np.array(img)\n",
        "  xs = np.array([ img ])\n",
        "\n",
        "  return xs.tolist()"
      ],
      "execution_count": 7,
      "outputs": []
    },
    {
      "cell_type": "code",
      "metadata": {
        "id": "AtNDzxRaxcfq"
      },
      "source": [
        "def _map_labels(x, y):\n",
        "  return {\n",
        "      'name': x,\n",
        "      'confident': y\n",
        "  }"
      ],
      "execution_count": 8,
      "outputs": []
    },
    {
      "cell_type": "code",
      "metadata": {
        "id": "_EyyDFL3tIRk"
      },
      "source": [
        "def get_inference_image(request):\n",
        "    request_json = request.get_json(silent=True)\n",
        "    # request_json = request # dev\n",
        "    image = request_json['image'] # base64\n",
        "\n",
        "    image = _preprocessing_image(image)\n",
        "\n",
        "    service = _connect_service()\n",
        "    project = PROJECT\n",
        "    model = MODEL\n",
        "    response = _get_model_prediction(service, project,\n",
        "                                     model=model,\n",
        "                                     body=_generate_payload(image))\n",
        "    result = map(_map_labels, LIST_LABELS, response['predictions'][0]['dense'])\n",
        "    return json.dumps(list(result))"
      ],
      "execution_count": 20,
      "outputs": []
    },
    {
      "cell_type": "markdown",
      "metadata": {
        "id": "pjOwmLV_wd94"
      },
      "source": [
        "## Testing"
      ]
    },
    {
      "cell_type": "code",
      "metadata": {
        "colab": {
          "base_uri": "https://localhost:8080/",
          "height": 125
        },
        "id": "qfvk_cYTyi_t",
        "outputId": "57c9c048-a6f9-4ee7-9c01-8dd45ecec6ea"
      },
      "source": [
        "# img = open('cardboard1.jpg', 'rb')\n",
        "# img_read = img.read()\n",
        "# img_64_encode = base64.encodebytes(img_read).decode()\n",
        "# print(json.dumps({ 'image': img_64_encode }))\n",
        "# get_inference_image({ 'image': img_64_encode })"
      ],
      "execution_count": 21,
      "outputs": [
        {
          "output_type": "stream",
          "text": [
            "{\"image\": \"/9j/4AAQSkZJRgABAQAAAQABAAD/2wBDAAgGBgcGBQgHBwcJCQgKDBQNDAsLDBkSEw8UHRofHh0a\\nHBwgJC4nICIsIxwcKDcpLDAxNDQ0Hyc5PTgyPC4zNDL/2wBDAQkJCQwLDBgNDRgyIRwhMjIyMjIy\\nMjIyMjIyMjIyMjIyMjIyMjIyMjIyMjIyMjIyMjIyMjIyMjIyMjIyMjIyMjL/wAARCAGAAgADASIA\\nAhEBAxEB/8QAHwAAAQUBAQEBAQEAAAAAAAAAAAECAwQFBgcICQoL/8QAtRAAAgEDAwIEAwUFBAQA\\nAAF9AQIDAAQRBRIhMUEGE1FhByJxFDKBkaEII0KxwRVS0fAkM2JyggkKFhcYGRolJicoKSo0NTY3\\nODk6Q0RFRkdISUpTVFVWV1hZWmNkZWZnaGlqc3R1dnd4eXqDhIWGh4iJipKTlJWWl5iZmqKjpKWm\\np6ipqrKztLW2t7i5usLDxMXGx8jJytLT1NXW19jZ2uHi4+Tl5ufo6erx8vP09fb3+Pn6/8QAHwEA\\nAwEBAQEBAQEBAQAAAAAAAAECAwQFBgcICQoL/8QAtREAAgECBAQDBAcFBAQAAQJ3AAECAxEEBSEx\\nBhJBUQdhcRMiMoEIFEKRobHBCSMzUvAVYnLRChYkNOEl8RcYGRomJygpKjU2Nzg5OkNERUZHSElK\\nU1RVVldYWVpjZGVmZ2hpanN0dXZ3eHl6goOEhYaHiImKkpOUlZaXmJmaoqOkpaanqKmqsrO0tba3\\nuLm6wsPExcbHyMnK0tPU1dbX2Nna4uPk5ebn6Onq8vP09fb3+Pn6/9oADAMBAAIRAxEAPwD1QAEc\\nUlHHXpSEgnrXlHqCjHIzSE847UoXuKDwKYGdfsDcwLyRSoOD6k1HenbfW4yO5qReefegZIBg1ISd\\nmM1GSq89aA2RmgB4J49qcckYzimgj0oJzQAnTI70DgZxSAHOadncvBpgIF3DNHApcHoKMcHNIATg\\n80rEEDNMH3cilU84NAmK2AOaMDt6UjYpMFgMHimICcg0qkheaXgUA0AJmlBJOaa3BFPWgBOh5FJn\\nJp7HjFRkd80CA8gU3HNKw75pD1Hr3oGLz6UpGR2pAeKTkg8dKBCnOBg0pAJ+lJyABQBk5A5pDEJH\\nA9apaqcaZKvqV5z7irh6VQ11hHpLMOSWUY/GmhMtzTxWkLSyNhB09/pWUtnPqswmvspbg5jgHf3N\\nXltTc3AmuPur/q4+y/WrJOTxRewrCxRxoAiKFVRgADgVKTximIOcYOaeTjj1pFDCeOaYcZwKkOCO\\nOtRHjnFACzwxXMDRzRh0YYKnoa5UpdeFbhnjV7jSnbLJ1aL3FdWD2PFRuqSKyuoZWGCD0Iqk7Cau\\nJbzwXcKT28gkjYZDLUpUsc9BXISwXHhS++02waTS5m/eR5+4a6y2uI7i3SaFg8bjcrDvQ1bVCT6M\\ncpjWQI7YJ6VM9u8S7iQVJqncC6fBiVTjuT3qdXuQSssquBjgLipKGv8AeyKq39ut7ZS27DO8Y/Gr\\nRzv+tMfg4FMDO0aWSbT184kzxkxyZ65H/wBatBSQ+e/asmEfZfEc0OT5d1F5gHoy/wD1q11GD1ps\\nEKaZjn+lOBwMHmmA/P0pDuKQB2oB45obPUUh4A4pANfDdDSA7hznIp5+7TCNtAxDxTCRupzMOxqM\\nkH60AODfPimybio29M8ihVJz6UFwOOhoAULvUZGMUMQVx1x0oXBGehFKVBGBQBHwGBxzTbhiI3we\\n1OBw+PSkl5jc4J+U0AWAAigdRjg0mMjPeo4mZreMnqVFOViPpQBuAdTQBzgmjFKBxSJFAwOtLxjr\\nSYOOKUYApjMnUQGvoPZSenvUseBxn3pL9CbtHz/BjH40sQBBzQMeAD1NOUAL600YDEdqevrTAXim\\nsQeKDSUAPBBB5puaQg4oAPpzQIcGzSY4PY0oUDnNLnigBoHFHGeaXHcUc46UCAcCnCo/pTjn0pgK\\nw96Tg8Zpw6Zpu3nrQADB4pc4AFKRimEcUWEOPHSmE54xz1p1JjrSAN+QARScE4pVAz83SggbjigB\\npOBgU4HANM6nGKdtOKADJOOfzoHTPajGCAaVsbRjigBrex5rM15kXSZGcjCsp5+taax8k881m6/E\\nH0ebgfLhsn601uJ7F4MuxcZwaUYLHtUaHdCh65UH9KUZBpDJlfa31pz8timDAOaeSzHINADCcHAp\\nrHPfiobuyW7UZkkjkXlZI2wVP9azv7Rn0yVYdUUGJjhbpOAT/tDtQlcV7GuDlemaZ6A0Bg+HQgqe\\nQVPFDdvWgoWSKOeExyIGjYYZTXIMb7wndEpmfSJH5U9Yya64cLUckcVzE0Uqq6MMMppxdtyZRvsS\\nW80NxaJcwuCsqhuKdvGOOtcnLa6j4WkaaxRrzTXOXh/ij9xWzpmq22rWv2i1JKg4YMMFT6Ghxtqg\\njK+j3NEcsD1psgKn60ZOOO9K3+rIY89aRRj6mDFdWV4GwI5NjH2bitbuOaytdQvo0zrj5MMPwq5b\\nS+dbQzZ++gbH1FPoJblvIJxkZ9M01iQeOlLuzg0OTnjvSGNLYXr9aZvznjP1oIwPX6UxQSc/zoAc\\nDkZxQSDwaXb2zTGGG60DGbct6gUbOQc/lSg4bNPAwMnr1oAQ8ConIbqKe/JGeKZJkZX0oATO01Kp\\nyeuKizjGetEhyQOhoC4rKnmFs59TQQGAIPy4pN4ClT1PtTlGAOeKAHRKRAgJPT0p3BBOc0sWPJTB\\n7t/OmkEZpAbWTnNSAioxk/hT8UgF3dqac4pcgHpQDTGULvm4GOwpqZQ0k5P2k89+c96cAcZxxQA8\\ncmnhgOtRZ5p7DNMBxI7UA96avB5FKeckYoEPyMHP4U0EE0ijnkUvHQDBoELgE9cCkPSghqYScYoA\\neGwDS7uMGmKe1OJI5FACkUhbIx3FAyRyeaNo/GmAA8Yp6470wgjpSHNAh560expu7j3pTnA96AFI\\nycim8A/0pCCT1xigcnjrSAXNNz2FAGTSjGc+tMAAwPejGAST+FKRgfSm4JHSgAJyPelUZAGOnek2\\nj60pOBkZoAN2CVqjrSl9FulweU7VcJyQabchZLaRCM7kI4+lCBlbT3LaXaP1zCv8qnOAeM1n+H5X\\nl0WEMcshZCPTBNXicNmh7iWxMvUcE+tPYgdKYpDY9aCDkjrSGO61BcRRXELRTIHRhgg1KCQOnPpU\\nNzMsMDzSHaiDLUAcvNdyeFJFUsZ7CTOxM/Mjen0qaBvEGsReeksNhAwyo27nIqGytl1+/l1C8izb\\nAGOCNvT1qSznl8O3wsbhi1jMf3Mh/gPoa1/My1+Q8/8ACQ6Z+8aSPUYF5Zdu18e1amn6pZ6lDvgf\\n5x9+NuGX6irg5INc9rmjSeb/AGlppMd3H8zADiQfT1qdHuXqtUdKiZGQR+NV1iSHKxoqAnOFGBmq\\nei6tFqlksg+WVPlkT+61X8g81L0KTT1FGcc9ajJyxGOnepf4cGoiAPY0hlTUNo025DAYKHim6OCu\\njWm45/djGah1eby9NuCw+XbjmptNBg0u0RhyY1z7cU+hPU0QwbnFIxCkDI56c01CMEAdKRgMgnqK\\nRQ719aYpHNN3AE05mCgcUANkyrA9qa2Wwc496cXEvA6DrUbgHgCgBH45J707fuzjnFQuQq8k5qSP\\nAGOme9Ax3UYNMZmyARyKc528ZqPG4k9PagLD2yRzUJOGOamGGUA8EVXZtzdMCgBdwJyRUiv0GO9R\\n44ABpqbs/McAd6BFqL/VkdxIcVKwPA71HESjSDqNwPH0pztu+lAG3gg9aUDIpg+tOBqUMTkE04YG\\nKjzipNopjMu4IN0wHYnNSqcx1XdiL119ck1KrEdfwxQBIBk0vIpF7etO570xMMmgZzkUvbFOUDHS\\ngQdeaMcUE0dBjvQAn40h54p2eKTbzkGkAgAHWnrwOOlNH3ufwp2dtMAxzTR65px9qTGRQAnGakyM\\nYxTAAv407OAaBDDwScdabnLYB/CnHlc55pB97A60AKEzznB9KAefelBYHBFBIXnH6ZoEJnA+tREM\\nG64qZsEDnmmkZHTNAw4AxRmgDjjFR96AJeAQSOM0NtOcHim/Wkb7uaYDTjGKaOMdxSkccE4pQMIa\\nQGNosghvdQsM/Mku9Qf7prVPNY94VsPEtrc4wlwpiYn17f0rZJJ6YqpdxIkiYEj19KPm3Eniol4Y\\ncYIP51NkdSKkZHu54yKwPEk7TCDS4mxJcsNxHZc10LHvtrmtMzfeIb6/YDZF+6TnP5f571Ue5Mux\\nt20EdpbRwRLhEGAKi1Gxh1Kze3l/iHDd1PrVncMcn8KTOe9TfqO2ljE0LUJUll0m+b/SoPuMf41r\\nbY54zWL4gsJZIY9Qsxtu7U7sj+JavaTqMeq2CXKgBujqP4TVPXVCTs7MwrnGieKreWPi3vPkkUdN\\n3r+eK6nfkccVka7pH9riALMYXibcDtzmtRchRnk/zok7pBFNNkhJxweaa6jHX8qcAdueoprYGCM1\\nJRxvjG9ugYrOOFkiY58wjhz6CusiwIIkxyqgH24rn9QK6j4qtYEBaO1BeTPTP+cV0JJCbgM+tXLZ\\nImO7ZL0HyjNMY5cZ6URybl4pGfaRxUFiBQHwCTTmYbcn0ppA5I6mkZSUx39KAGg8ZGADSPlSCadt\\nORwOKAPlYt1zQBGcYy2PxoL5OFwRTWIPBP1FKgAIVSOTgZOKYx24EdKQYBzigHP1pregJWkMdIwC\\nZHWoScjBp/CjHX61AOWzSBih8NtqYYZCG6moHTdgqfrx1oGe5I4pkl5NqtJ82eFP86H9utQoD9oO\\nT96MZz7GpZCoPakBtngZpc0E5FIOQaQxwBOaFJxz2po470OMc9jTGZUuP7QdsHpz+dWFAIGOaquM\\nzy9hnip0+XBHpQBOozg96djJ57UxCTkGnoM556UCF+opw6c8UdBTSfWgQpPzD2pTljScfSk70AKB\\nxSAmnZAXApoODigBSehpeuKQnjOKbu5oEPz81Iwzz6UgHGe9K3agAXPpS4JBoKjblulIM4IHSmA3\\nbgdaBwc0FhtIPFMU460ASsxHNLj5c+vSmEAryaGAYLg4NAhF6+54oJGOc0jcrwcEUm4r1HB70DBm\\nyvyikyV78HrS52jNNzzjFADz7U09MYGKRuRilVRjnr60AIQSnBpUIxg9qTaMkjpSFQGBGaAM3xBZ\\nfbtMfbzLF88eOvFS6VerqGmRTgfMflb/AHh1q6CTnA/Cubid9E117V8/Yrpt8Z7Kx6j/AD7VS1Vi\\nXo7nRqRkAHFPb7oxUIOSOKk3cDpxUlEN08qWczRIXkCHYo6k4rG8LRzQaU8dxA8TmVi28Yz71ukj\\nbzTc9CO1O+lhW1uNbH8PIpSAE4PNNZQxwR78UqjKH29akY9F3Nt45HeuZsLW50jxNPCtu5sLobg6\\njKoeo+ncV0gwR1pnQ/WqTsJq44lSQPSjAzn06Uwrg8mhWHQmpGOPByDnNZ2taoum2RkGDK3ES+pp\\n+q6tb6VAGm+Z2+5Gp5asqw065v7z+09SXDDmGHso7VaXVkt9EWdD057OKSa4O+6nIeQnt7VpuSq7\\nc9alaRBhT+QqvITuz2FS3dlJWRLGflxjig/M2aajApyCM0HIGAeKBisQPrSFsktzmlYYXIOajB3n\\nGSDQBJGQc88Ux2yuDjOc0rooQc4JqJgeAPzoACf4sCmH36U8/LjP5UjEMOOo60xiKxTBFOTLsSe5\\n4qI5BwKk5A/WgLiFvmII6UzgHjin7wM8UwtgY5pALuAOD+dNKliSMAUMOM9aYJGxg8EUCLSlmaN+\\nimMj61IwG0dORUNvvKwdh8wx1z1qZyNg9MdqQG4eeBS4IHA7UnANBY0gEBqQ42+tRE45I5pS3y8Z\\n59KYGQzAXcq55BzjFWEIx71SiObycn1wPpV1ORQMmAwCaeG46YpgbtTu+D1oEAJY+gpSAcU3GD/O\\nlXHNACtx9KcMEAmmsM96QkqooAeODRxuyKaBkZz09aMe9AhzNz7U0HOKU4IwaaBg8dKAHYJPrQem\\nKVSCMim7gxPGaAFZjjnPHpQCwznvS8A8+lKcHFMBMBuaiCkN1zzxUhI2nBqPd60AObG7rmhjxjFJ\\n06daVWU8nnI4FIQnVelIRjqOKXO3j1prDcTQAjPgjg8dKCSTkc4oJ9Tz6UhzkkZAzTGKSDj1ow5U\\ngdPajggHnrQzEEHtSAcRtT5utN3ALmkG4n+VNYkD155zQA7+D3NZ2p2K6jZtCSA45Rj/AAtWgM5z\\nTWBBPAwe1NOwnqYekas8r/YL0eXeR8HPR/cVvggJ0zisfVNJXUCkit5VwmCkgHI9jUdprUlsRaas\\nDDMDgSbflcetU1fVE3tozac7RyMHuKaoXaRgZPekR0ljEkRVlbncDnNNZfXpUlXE8wltuCPfFSZG\\nOOaZkdfXtQTwO1IYing80u/ILEU0DJJ74rOuNXtbVvKVmmmzgRRDPP8ASna4N2NEqe/1rGvtbhjn\\n+y2Mf2i86ALyFPqT3qF7fVdXXNxJ9jtyf9WnLEe5rTstOtNNjxBEuSOWb7zH61Wi3J1exT0/RmR/\\ntt+wmvH5yxyE9hWmSQ/sOtP354IprhSAM8HrSbuUlYaU3cjg1GNxJDDipQfujOcHrTJG5GAeOpFI\\nCQHA54FKcY6fjUROcd+elSA549KAAdKZgBiacOM57GmsuV47GgY1uQTu6UhYEU1F39cijLRv0BU0\\nAN+8cnsfWglQTknGOKjbduyBxSk/IMjntTARm7A1LuJAJGB3quUyckc1KPunPGaAHuy4FRE4PNKw\\nyRSO3Y/lSAQkngGm8A5JpBz93161IVJ4HPFAEts2BHzlRJj86lYBlIHHPaorQ7Y3GMbZAanKAbuv\\nJoGba46UZGfemg/NQT370hDj1OaFAHNGMrSA4/CgZirCxvLrPALAg+3NWUIU4zzUQOyaZsnlh+FW\\nEwOvJ9aBEoG0ZHNPHq3Wmx8npTioOcjPtQANwMmkXjpTido6fhRgYz0oAacnoKd296AcJR05oAUj\\nC5zSdBRnPGcUvB5NAhMYOaXOTTSSSAKa2Qc0ASDhDnp7UiqCAQefemp0we9L94470ASY4pCAe+cU\\nhyB0NGSF6UwI88H60Adc0Y2rj160oHI+lACc5ApBkjjpmnHkjP4U5sKBjrQIZ36fnTc4xxg08r0O\\nfwphbc2CKAEUkA56nvSscjPekzlOv40mMYAGRSAcMrz1+tBY5z0oJz0pHGR0FAChs5JJ+lA56nvU\\nZPA4xinBuKBikBWOOSaYxIbkZoOc01m24I5PYUAIDht1FxBDcRmKWFZE9GFIcnB/SptuD1oEzBk0\\nFreRn066lgJ/hzkUwyeILfcpSC5UcAjg/wBK3T6803duBNVzC5exif2lqi4DaSx9w1M+3a5OdqWM\\ncOP77Z/rW4wJ57U0qGXI4z3ov5BbzMX+yb+7cnUL87T/AMs4eBitC00+zskAt4tpHVjyatoNvXmh\\nyNmV6mk2xpJA2W6Z5oA3LxSDOAp+tGdrnHIpDEPY/pTGIyFz0pznniodpDnj3zTGKx2tgAfWlVwU\\nPPfpTDwTu59qfwcYAGO9AhQ3zHaKfuOTxTON/ANPyM0AGNxOByaYzbQRTyrKMjknpUeeoP60DGgk\\nZJxTXB4I79qVmG4fSkd8Ln1pCG9U4OKTZwuTzilDLycH1oBGR+YzTAaVbn5s/hRuKxjIz24pPmyW\\n5x60/tzjFA7kYOcHtSY3NSkYJz071GcLIMHj2pgODYGCOKdnnIJqINxt6inZIGQfzpAPiJ/fg9OD\\nVl2IkfaeSSQeoqpFnMvB5XIqyQChJwCQDigZvZGaUH2pi4GRTwcVIhzcLnNNQBlOetIxOD3pV9Tx\\nTAxw/wDp1yuRtD4A79KsqofrVRG33k/GPn4q3HnOGoAsrx0pcjJpoPanABhk9qAEJzyKM46/hQDg\\nYpMZPpQAuTSPxyOaXGV44wetIvPegAHSjGaXoM4NBHy89KAE3YJ9aQnJyRR1YCnMv6UCFPbHSm/d\\nbrSMSBTgQRkc0AGT74NGd3AOKQZ7ZpCpOM/pQAc4+8TT1wFyaYcLijJI7Y9O9ADsjHTijGe1IM9G\\nHHvSk9ACMUxDDgc0zhlz0p+MD5jmkOAOPWgBqrxgHrSFSDTvuHnmhmzjikAg+7nPekx05zTTkkc8\\nelP2jPB7c0AJj5jSq2AecqD0pp4PIo42qehOcj0oGIz5Y1EzkNjPNSEDuaYCuwkDkmgB44XJ6Yp5\\nkAzxxURLMvGPrUrbeRjOKBEW7oeaU4CHI+tITkgDOKdOuIxg855oAhLMwBA4ppJ9frSnkck8dqQq\\nOD3NAxVcqDjmlJ5FNX5Qcce1NZ1JPPSgAZiHyAenWnck0m7K8cc9aCcAjHegAfvTRwCeeetKCAuB\\nnnvTc4ypFADJFAY5oOVOSeKRlJAFL2xjOB1pgIrnfxnFSsAyls4NQqcgg9u1OckcA9RQAqOSrbTk\\n44pmfm54FSKcRjGBio5SS3rx1pARkgdemaGyVHNIRmkDELxyaYDgcL7ilI2jtn0puSFGe9B9hnFA\\nAXbbjoB6U5G3Kc9RUbuWyAOOtMBOCe1AEjEEck5NREYz+lDPlT1prE7TntTAcD700t1AqJpcDHeg\\nNxmgZNbZMrjPRKs5zGv94qOaq2jAzOAOCvNWFwsSd+v86QHRjhqcemDxmkIP0o57kVICtg04YKVH\\nxinjKIcAk9aYGJCCbq4bkfOQPzq4gK8/zqKIcscc5OanA5zn8KALAwFPygnH5UinHNICO1GcHigA\\nY4OMUgySOKXIJzRjnjrTAMZBBoxx0owaTOGxjikA4HnGCKUgEZzxTcDIOaGbB9qAHfKDkdqN2Tgf\\njSb+CfUU1c+2KBDmx+NMVtp9jTyRzx+NMA6d+9ADwT1pN+V56dqOSM0xAQvzY/pQA4kFMnr6Ui9i\\ncUiKCfvYHrRjHGKAHHLHnp7U3GTj0peCB6igDn3oEGCOuPxqPJBOegp7EkgdqjI6g9aYC5zjFIBl\\njnP1oAAXPegn5uD1pAAYcYOaVW3O3OKAAehpCQDzQAHliv60mDkcdKfjoRgVEcjgnqepoGIzHH3T\\nzTeAMAdKeeAO/amNkHkHNAAH2LjbUuME+9QFuevPvUpJYHGM4oEHyhuOaJMsoA6UL8ozjJpJDnbz\\njNAEUgwuP4vWmrjdSk4XOKZv7c57UDHMOozxTFxjPrSufl59aYSOABQA4lgOoz2pMszA4GPajjjJ\\n5+lKOhxyc0AAODgnvxTGOc5I+tBOT9KRuMAjr0oAC5z3yKI33k4J4qNgQjZ+tJE2Ex2NMCTKjqAa\\nJGwVwCPp3pN2W4pAM87uaAHdRznim/w564oLgkjn6io3BHIPWgBNxzSOxGAKAD1PH0qMt8xyPxoA\\nlRs8EUhxnIOKFYYPPIqM43HJoAUEluKYxIOM8GgsB+VRs/PQ4oABJud1wwK45I4P0pNxBwTzSFhj\\nI5oHHPfFMBSQvOMk0zPIGetPpj/dxQBLaMftOARnBqzlWgQ5wQzA1RtSI7pTycgjirecxsBjIk6f\\nhQB1h5HvTPqOlAJB5pWPGKhDEz6jj1FOc/IVHemA5wB+NTHGcdPrTAy48q75HG81Oo6GoVZSSc5+\\nY1KHyOCDQMkIwfYUoIzimZJFO/DtTEG3HPalPOSOtOAph68A0CFG7GaU9exxQtJkbs5pDFGGwQeD\\nRj2wTSoct6+9IxO/2oAQ9RSsQRxSlvbikHc5oAbs9DQF556inBhjtmkLccjmgQg6fzprHgj9KUHr\\n703dycjBoAABjI7UxpMFUYgFjipTwgHQfzqDy1LmTYCemT2oETYA5JoY4GAPxpuefwpGJJH1oAM4\\n4zSHhjSkAk0zOOwoAdnjGaaeCuB+NNCgkksTTugGDxQA7pnFMJz7D3pjEqT79KAhON3B7c0AS55A\\npkjbSOeaEIY8/hTGIGRjj3oAeu4quf1pjfMRk/d9KUAheeM0zbgsAMfSgBPlO4enNTKwATOPpVV1\\nwSR61KBhQwHJA4xTAsjaVLZwM1HcEBAAMn19KUfMgzzk+lMmGCMAEfWgCBRyS1L8ud2M44pkh2im\\nqctxSAc5DEH0pM4PbJHWms5+YAfgO9KoBUHpmgY9ucnHHTNNLAD5QRTcjjd0pzfMOD09KAEXA701\\nznkDmkVvmII4xQGXtmmIYScnnml2jaKcpXqfvE0SkDBB+tAEaHLlTn0qTZtPvUY+8D2qUfL949eB\\nQMZgcmoeWP8AM1YPHUVC5AHHSgBfYHgcVGUwOtOBO3GcnrUbsVI5JxQA3djnPSmCTJ5pWO7Peq2S\\nGFMCbeAcHoaikYnIBqJnLUu7HU0AKmcdKeeOppgb0prMSBzzQBMCMDnvTCxKk0xmIwB6VHksDzTA\\nlt3C3SE5wT1qy52GQjnDA9eTWfnawPpVyVg29/QKR7c0AdoMUNyMDrSDJ7UpUjvWYxE45qRidmT6\\nUiKAp6ZJpZFdY84GMc0wMpcc85+Y/wA6kjGAarxKSM84JP8AOrajPpQBInTmpQKiAPanF+RTESkY\\nAFM6UgYnqaRvuZoAdu2jJpBtLDtTTzg5JNJz0FICQAAEg0pIJ4J+lR9Og5pAxbvigCUMO/Wm7hgi\\nhfvf40jYIHOCKAE3AUhIY9aTGKO5oAfuzxjGO9NLAAZ5NGfmAx2601vw49KAFY7uKY2cAdPpTmwq\\n7jxxmmHru5NMQ4A8Y/Ghm42npTSeM9PWjKkcgc0gHYwTlQSRwc9KYxC/X3pPo3WlwpIOaAEG4ZwO\\ntAwAR3pzABWJPSoRwCck5oAkXGAWHzUFtxBGPSmbsDdj8KaG4yOM9qAHhgMse3Sm9cEUdB0yO9N8\\nzDMqjjHegB7DeSGOPxpM859KQ5G09aidm24B60ABb5/cdqnHQAjHHWqmSTg559Ksr9w464oAlXPl\\nLknFRuTjnoKkkbEajNQSMSuPWmIryHJApMnNIQQSRyBQeBgd+eKQyRGAxwORg0g+6efwprcOccGl\\nOOBigYAZ+b24ppJwQOpPFOUHB/KkJ9vrQA3GDu7YpVBJY44phdaN2AeeKYhzAlxjOCKR8beelNR8\\n5YnkUxjg4HegBQxLbR061YGCvHU1Uz+BqZCAnPXtQMUttO3PWmEgjPb2ocjjHQd6Z8vPOKAEPIzT\\nDy2PaldmOFHWo2ODzQA2Q4HHHaqzFgeBxUxkzznoaqvLyQTjFMQ0vjr3pwOR1qF2HbFAkGOe1OwE\\n24KeOlML/OuR0qPeCKC1AErsWPamM+0fWmlwO9M8wMCD2oEDN03HvV93ysmB1j4rMYg960dxOzb9\\n0p/SgZ3jNgcCkZhikyCetNc9AOtQUOU9CelSvLiFuMnsKrFuMU8sCvzc4HpQBmINgAJzirEZG2oF\\nZXkweD6VKXVflpgS7vlJ549KQZPOaricMvy5IHH1pRNzQBZXIUnqM04MOhFVDMwxjpQZGPfNAi0O\\ne9N7e9VycLSbyB1oAtA4U5/A0Fs81WLjZjv6UgcjOenakBb355GKaz/Nzxmod2DnjB6U15C2eQMe\\ntMCwDkZFBPNQJISgbP4igncxOTQBY3ZGM0xuDhfrUIba/PWopXdWOG688UAWXdeATmml8PjGR1qg\\nJHbjP50qyNGxYqSTQI0GZWAzmmMy7xtbp6VUaRiBngnoM0wtJuG0Hk/SgC7uAOCetKrDnJzWeDJv\\nOQw+oqaIjpnB60gLmMhuCfSmZBODioslhgMeeKcAFXAyT60ASSYCjoMVHlVUjvnNRkOx68GmgAN1\\nzQBJvDR8HBzTdwA4bJ+lMYHbkcjNBBPIFMCQSfKc00yKr0ixlsZ3ce3WhoHP8BH4UARlgz574qxG\\nSVA3DGKhW2kDkEcVYW3baMdaQCttIUZ+aoZZRkgHParT2p3AE4PSq0lkefnxzzxTEVWk4zjPHSgO\\ney9e1SG3CkDk08xHoOT2NIZE8nzcdfeoy+XwfrUzQHk45HHWmC3bB4B/GgY0TlVIIyOue9M83AHH\\nX0qUW/BBI6+lKIG2k9MUAVyT35NKJCOMVL5AI3bjk+1CQHaWbvximIhJyc+lMLkVYNuCDyPyqNoA\\npAyc0DId3Q9qkG4A4NKI1wc5xmpCE9KAIWY4HNMZiy/jVnamM4pAi7sgdqAK24kiq8qsGOMjNX2H\\n7zgDAHNRS9xigDKYlcjJOTUD7ie/0rTMSqclcGo5AmQdoqhGad5YjaemfrSBJCPusRWkVUrximFh\\n2oEUVikx90/jQFdcls/Srm4H2NN4YUAUiG3ZKmgE1cBXHQVG2M8DimBWLY+tXQ7eXCwPVcVEVqX5\\nUjiz2agD0HGFzkUhPHSo+SMA/SjDKoGSazNBQRuwaU4KY96TB9OnWmsyiEtuwPXrQIpYzK7YAwx7\\nUjMGxyBTbSaK5nkVX3lDsfHY4zirwhQfwgj3oAznzGuW2hR3JxT1xir/AJcbkqdh9RxSfuc53R5H\\nfIpgUTIu/jsOeKcj7s84q80kcYH7yPn/AGhTHlt9vMkX5igRmyy7WIOAeoGetSiVdm7Aqz5tuDnz\\nYgP94VG0tkW3GeHPpuoAhWVXJZWx2p5k2n6ipPtloVC+chHTBHFL59kg5lU8cAKT/SgLkLyqD94e\\nuKR5gijcPl7mke8sGOPOT6FT/hSG/wBOXBM6YPsaLBcBcRlQFPy9vlIFSw3CE4GcdeQRUf8Aadjt\\nGJcj2FH9q2LfLvbp7f40WYXROygtuwOvWlBGeQfyqmdUsoyR5kgAP+zj+dB1/T1GRIzY9Mf40WFd\\nGivl7hnBPWpHRWUsFBH0rDPiaxB4jLc9Nwpw16N2O3Crj1GKLMLmyU3AEYpQFyKw/wC30UHEybfq\\nKaviaAtgoOOrbqLMVzez8xBUYpjbSSCi/jWI/ie1ZshBxx97OaVvE1qANwAHrz/hRZjubDJhRhV4\\n5GKj2vkYArH/AOEss2YjYT9Af8KY3im1yMI+PZCeKLMLo2fIdicMOfamiAhuv6VjjxXCWJW2mI6A\\nrGaQ+LrdTj7PMB7xkf1oswujaEXXLYHtS7PLXrkE+lYLeLoG+7DIP+Af/XpD4rCAYgcj3jx/WizF\\ndHRoCOCQeacT5gxmuXPiw4+S3fPclAP61CfF8oYlbYDPc4FFmF0dYueowc07njJP1FceniiRicvt\\n9MJn+lL/AMJBdHn7Qwz0Gw/4U7CudoxPHpioyCQeK459XumOReSE+gU/4U0a3epFt+0y5PYKf8KL\\nBc6xjzjFRyBgwIHBrjG1a/Yswmf33Eiom1TUh/y9oPrKaOULnbyZVRuBpVzyFBxiuFGo37ZJvV/F\\nyab9vvTlvtkY9fmP+NHKPmO4OVzgc0oOBgsc1wTXt6SSbpCPXn+pqE3N2+f9Jj49qOUOY9BOdvp7\\nk1GZk4G9B6fMK4MXE+ATcRkDtspRJKQSrpuP+xmiwXO686Hb99R/wIUx7iHkeah47MK4MzTsuDcH\\nI9ExS75AvzXB59B/9aiwcx2jSQtgCRf++hTjNAB/rl59xXE75AOJWP4Ufv3wfOx+dFg5jtRPbgcz\\nx9P7wppvLZWwZo/Q4auOWC4bJ89vwFKLWUkkztmiwXOva8tgx/0iP86gmv7NT/x8Ln6GuVaFgeZp\\nCfrUTRMpwZHOfU5p2DmOnk1C3bkTD9aqtfw7upPvjiudkhkPQOarNbSE8oxP1p2JcmdKdQQdAaad\\nQhPUmuaNpIf+WTfnTPs0mf8AVnH+9TsLmZ039ow54NMfVrdeC+B+Fc99mkHSM/nR9jb/AJ5Zosgu\\nzdGsWn/PQfShdXtWIAcViCzcdIQPwFPWykB4josguze/tO2UZBGfVjgD61yeq+PfKu3t4YcrGSAw\\nORV2Sxlkyjqu30bpXGXmhXpu5cWzkbicryKuCj1InKXQ25fHfiWSTcdZuR9CBiqknibXJc79Yv2z\\nwf37f4113/CrCwUrqD/7RKD9KtQ/CuDcPNvpiPQADNPmgHLNnBS+INYlijik1S8ZIyWUGZuDS2V9\\nqtzc21pBfXIJfCL5pwM9a9Ab4Y6fz++ucD0bmrNv4B0yyRrqIzl41OUJzn1JNDnG2gKErkmhX+Td\\nssv7xZ/LZVHBwMD9BWy5nJyREGPQB/581oaJ4dstP/eLGjE8gDBA/wDr1teRAeTEgP0rBs6EjkhO\\nQ/AYHvtYHFIrysx2ySH6gV1ptLdSCsSZ68LQLeAvzEmf92i4WOSZbrkhpOfoP6VWMV3gq8kpHbBH\\n+FdybeEj/Vpj6VG1tADkxJx6KKLiscI9vcbsbp+fVgP5Ugs5kPzibPbEld00ERIIiTj/AGaUQRjq\\ni/lRzBynBi0mZ1zFMV92P9DVj7IwUubWXJ9f/wBddp5MYP8Aq146HApHVQRhR170XFY4Z7bB3NbN\\nx1yaT7BFIci0Ueg4rvAin7wAP0pAgXpj8qLjscKNPI6WIIPq2KP7OkPS0Uf8Cz/Su8IXGAOCacq8\\n9KLiscCNPkJwtsgJ9cn+lSJpV7j/AI9YiMd1P+Fd23yjPrUZVSDnoR6UXCxwjafcglTEgGOQqkU1\\ndJWU5eL5unWu7aJGQbl46A45puxMHKKfqKLhY4v+xLYLgKSe+QKf/Yi4BVEA90zXYNbw43eUnHOc\\nUCNdwyB9MUrhY5CPw/IThGH4KM0n/CO3TkgSSY9MAV2QGD1/Kg9vQ0XY7I49fC05HzO35ipz4ZYI\\nv7x2+jV1Jxnb7dKEA4A45ouwsjmf+EZJIDO/uC1L/wAIvGM5kYY45aujcoGyW47mnM0ZVQGUj1zR\\ndhZHNDwxESMkn/gRpjeG4N4XByf9okfzrpTIu7GRj1pCoJ4ouwsc+PDVsBgoOnXvQfDtkE5Xn1rc\\n2sScH2pDtGATRcVjn28PquArnHv2qUeHkMP72RyewzitshVJPb0oDAgL60XYWOffQrdRkw5x/tE0\\n06LARxHj0xW6x5IboegozxtzjBouFjDj8PWzHHld+7GnHw7ZhPmBz6gVu8AMcg+hFRcEjnpRcLGQ\\n2g2uAFyB15FKuj2+4DGecCtNnUdWHPFNygwMjOeuaLj0KL6LAM46Dtimf2VbKBjd+lacz427cc81\\nEX3HC4FAWKLaZAfu7gfWmjS4h3P41dMg29QKTcNw+cH8aB2KJ0yFuM4pBpUIByzH6cVeaSMZGRn8\\n6jMsYP3uKAKo0m2J53fnStpUPRWIz0q4txFtwG/GpA4x1GKAsZq6Wm77/HenrpdsGywY1d3qGIyP\\nrTZJkjhaRyNqgnjrQFiH7BbYwsS1WlsoA/MYFW4blZo1kTIU5wGGDUVw6nOSM0xGbNbqchcY+lVX\\ntAcYJ9+Kvs6gEk8VXa4jBxnJpiZX+yJ6tTfsqBetStcoM5YVEZ0LHBNMQ0RDPFKYRjrQbhMckU0T\\njPUYFADhAO5pyQooPUmo/PUH7341G1yMkLQBZUIHB2j8qfNtcoSBkHI4qj9oz2o+0tnGeaZJ3yDL\\nbt3HpUyvk5zwarBjwoHFSIwFZmpMFwSw5zUVy5+zSgAqdpGR9KezjYRnNRO++PDDIwetMCNLlgEK\\nlhlRVyK/mQYZEkHqTg1nogR8cHHrUpIUH+lIZbbUpeQsaD8TULanP6KPoKjjIJJPX0prqrNk0AWW\\n1O4AztT8qR9RmJ3ZXn2qs+1TxyPemDA4GSPcUCLLajM3BbHpjihb2Y4wT785qDCnHc+tOWMDGW6U\\n7AWTdTt91xn6U37ZIXyWwB14qAMM8GmSsBznHHQUCLP26TBO446dKT7XKwOXOe1VlYFR6+9KGXhj\\n1IpWAmFxMrcsenSn/apQQSzVWBIOc1IZQFw/J9KAJjezbck5A9aT+0XPVB+dVwwwcZxTDt3Y5oAt\\nrqOAAU47ClbUtv8AAPfmqOAx6EAVGQMn9KBGidSZiMRgD65o/tJ8AFRmqSjCgEj25pHXGduM9/Wg\\nC6dQYchV5pn26Tbjp36VT3Yx64p27CkAe+aBk73Uxb75+uKYJ5A2A5zURkBX5uTQr5fJxj3p2AmM\\nxwcseeKQyEkNk9MCozLuB4HPSmlzs2549KLAPaRywALYxTRPIpIDHryc0xnbnmmg55PSlYCQyMVO\\nXbk9M1G0zqPvkc+tGSuQelR+ZlRwOvOaLASfapQCFYkUv26fAORjPpzVcMTkDFCglOegNMRMb6cn\\naQDQbqc8FsD6VFjuOPrSNyuc0ASi7mHyA/L2wKY88zE/Pz60wFlOCevQ4prqWIGeaADzG3Y5z69j\\nSln5yMkUgBBOabuYhj6H86QEvmylPvZx2qPz5GIG6kV3xweD2prqeGHQ0xji7ZNMVmDbs5NBwBhj\\niiPGcd6AHjdgk5xUe7qOcVI78dee1Q880DFLHGB1ozg/ezigZyM9KXAycUCJC7s2ce+aXJ24LDNI\\nRgD0xSYLc0AJuPBJ6VXmctj0FT4J71XmbANMRVkOVzmqUjnd7Vbc8HPNUZDk00SxN1IGB60wmm5N\\nMQ8mk3EUwmigB5fFJuplJnFMB+8inxsOagY0qNQI9KUjlaX5hwAMetK52knAyKYCzHPP0rI3FO7g\\nDvTZRtUrz93NOzzxwailLHI54oERROScknAFTMeRz1qFAxQDPWpduxck59qBj8DOCenpS7crwc84\\nqNTzkelA3A9SaBCuT3pABt6YApwXd8zE0AZ65oAFwGzk/hQzfP1xTlQDIOeeOKR4guMZ96YCMRt4\\nA474qJfmJwKc2cYGeaZll5HegQ5mK4BOfSlGCAAfwqNido6mhWxj9KAJt69MYqN/vmkJztNNJyMH\\nr7UASLle/WkLZbLdaQ5YDJzTNxGMA5P6UAPMhBx2pvGcU0k4GW5pHyMHrQIlVlP19aCwJ9vWmKcr\\nkdQelOGenHPekAjgbRz+NIzKRjuOlPKkgDNMAApgMUbTk96UYzk04qDnmoiDngj6GgB5GTkdBxSA\\nhj1OfYUucqRnpSxOVjYYUB+DmgYx+uCSCOaMALt5296cwwpPGaZvyMUAGVL5OcU1mA6DFK3HXrjq\\nKZwUIzzQIacjJGfcjvUiPtHGcH2pg4yBwKcpXJ2ngUAIxAByKbkFOhxT+Dluc00g4OD17UARF92O\\nuaUvyPehkAPGSaeCNnuOPegBhb5hnOaQtklccUbjwcZpFYBvm6mgBCcHAp6vxtIwD3oYj71NZwTx\\n27UADkY5HI9abuJXOKV+UB701X2A9PxoGNbOPSmq1OZt3am9j/WgAL8YxT1UkD0x0qEjnJPSp1YE\\nccUAO6/4UA4BpQvy7jTGYZ4oAQZ5weDVeXHPWrCtioJSWJyMUxFKWqMhweauy96ozHnmqRLIs8Um\\nTQSKQmmIX60hNAYUcUAFNJ5pSaYTzTEOzxQnWmHpSI3z4oA9QL7ySAKTcTwBj6U5FwuFOT71Hghv\\ncVgbjlYg59KhmkyTjgVKGwd3B9qiZQW54qhDA2Y1x2oznrk0NgKOn4ClBBX3pDDzNvOKerEjoM1E\\nTzjFCMNxyTQInBO05oEhC8c1GX9OlAIIzQBK8m48DGPSmGRjxTBy3XnrilY4NMB5mXYPl+YcVGTn\\nJ7elJt3HGaaxwTgcUCFDFhu7U0k7/anHlRnr2pRtHWgBm/t+VLk+mKVyCuABweKbuzjg8UAOVz0N\\nMLdMcY7U4MM5OBSbVPP8qAAknBprEng9qRyQQADz3oGcEEUxBE+c9vSnnGOvOaiVvmZcVKM7PekA\\neaTwxxTWKg5BJ+lMduOVyc0oIPagAJPX1pCSfcU5+V6d+tM+Yg4xQA5QAuO9KRtXnqaQMV7A8cUw\\nuWPIxQArZZQPT3pnK8U/eADximOSzDaPfNACgKfvH71MJAJHNKGKn+tNJ3MenHb1oAduAwMZ96am\\nSCRSEnHYfSmoDg/TFAEu49c/lUbls4HFJyp5OKVgCue9ADFck89R+tLuGCTSNyQQKQnrxQIfjdj+\\nVIVA5yabuOKQPu6mgBwYKcmo8jdmlLZ78Uw5PSgZJnB9qaxBOKFAPOaGXJGPzpgNK0cY96CG9eKa\\nX2nigA7fNU0eDhe2OtQMxOO1PV8ADmgZKWGMZPFN/h5FISO1MZvegBwwKhkyc4pw4PJ4pkgJBxQI\\nqOc5qjNyxq4wIPrVKYYOM1SJZAetIeacRSDimSNB9aUGkxk0GgQGmk0HgU00wFpY1HmjNR7jTo2z\\nKPSgD1FV2Ux1KndnIPr2pwdiMHrUT5Lc/lWJ0DcEnIHFDt26470nIbrSsikZ39aYiujlsq3Y0/dz\\njtSH5FJAJ57DmnEYGccUALjI600ZzjsP1oDDGMUAjI/KgB5wVpenBH5UYznjpRyQeOaAE3fODigj\\nPOTSAAZJPemliQMUAOxikbNNycUwkq2SfpQIsY3DO3FGzj/E1EJWxjPvS+dvONvA70AIww2Dwaa2\\ndwUE81IvqcHFIB8wPQ0wG8E9aerKo9qiIOTyDzjigcfKaAF++SQRikRTyO31pAq7/vYpQR0PHoaB\\nCquBgnk1Ku3nmogQByenWlJ+VgRkEUANc4zzTSOMqetIinYCxJyOppXymAKAF8wnr0poHPDfrQQW\\nOTjmm4yT/dpAOJGfahXUtgU0DevymjGygCRthGd2T0puAvJx+FR5B4BJzSMQFA5oAk+XORyKZnJL\\nDAI9aTILAAkCkY4JFADGk44GKVGGxh61GRuPPUU6PAbPtQBJvGDu+lC7cENn8KViijOOaiYnP1oA\\nkYoRgde1Q55PrTlx1PSmcZIFMQ7qKj4A+tKSR1NNOCAaAEYmhAc80mBxil3d6AHA8+1KXxniolyc\\nmn78jGKBilgcYpuPcUHjntTGOOlAA4wacCGwKaeRTV4PNAExpvTml4IyaCARQAzIqOVz2FPwBTXG\\nRmmBUc1Rnzuq7IPmqpNimiWVyaaTSmm5pkhuwKYDk04ijHNMQ3GetIeadSetADSABRH98UuMDJoj\\n/wBcKAPTlmw2QKZJ8xzmlYEYwOtRk4B4OaxOgM84pSoqP0NDMccUxAowD9aCSelInKk+nWhCDk0A\\nIPvdKft43L2oxnpS9OCKAEMjdVOKRizAH86aCCSAe+KcfSgBDu/ClPCgAUDIoY46CgBhk+XaRjnr\\nTWGV96cQMliKDgjP5UCGY/SnIeOlGe2KRTgEHpTAfkqfUUobfk4xTSQBxRn5flAzQAhHUDqaaxYD\\nkE+9KBgZIyB2prSA4G38aAHbcjOeaA0ZP8vSoy7KCV6YpsZ4ycg+1AEpHGKB6knHYUZ3qV596bu6\\ngHketAh0jkcAcZ60zk4HWmMS4APHqaAW28cUAKZMtj86Q9hTWI3ZHNGcfeHPagBd5VeB3pGPBOaM\\nNg8YpnI5I68GgAViPxoYksAadsHGDgUjqVIzxQIOvQfjSFsinNjAAOSOppq9+cigCNu5JOaavGe9\\nBYbue1AP7w4PbikA4DJ61IzADHBNNU8n1prt2xQAF92KaMAsc9aCMc0zd7UwHZwfXNIfmUimE/MA\\nKdnFACLnHPNIcMT2p2RtYgc00HNACgjaaTnIxQMHI7UYwetAC80m3JpTwOKTPfPNAwIBPXmnAbee\\ntMAPNOUE8dqAHNyMCkxxQx5/pSbiBigBOmcDikdflI/WjJJpGbIx2oApSdSKpy9+KvOBgmqc3SqR\\nLKrDimY9aeaaaogTNGaQUUgCmn2pSeKM0wGHOMdqWP8A1n4UpIpqEB6APUWYDjg+mKr5IbmjGBTT\\nwQWrE6CQgHg0wrhP71G4UhxTENZto29zTA5Uc4pX4YEemKZgMCOKAJVcHkcUvm/3jxUaKABnil4H\\negB+/JyOlKTkikXAHHNEr4waAFLY4pvBNIuHo3AcZpgNbuuevpSjBAyaCPmHHWkc7W5oEOA9KRvu\\n8UqfMcc/WmhOetACAc0oIUkH0p/yA+9MkPOM4PfFMBC4HSot5DA4HvUmABxzTQAQSD0pAJ1QmgMN\\ngA6+tKMspPf0xSBSDjFMBQ+Bj+VHDdT2pyr9KjIwx2/rSAYzKCFHQdTSgg5weRRIcHlRUfvQIljQ\\nY96Vgp6jimqzbRkU7IY9OPegCPcqg4zg0oww7YxTJF2twetPC/L83SgQhByAvOKY7ksARTmfbwvS\\nmbe/egA3YIpOOTmjO08dKQ89aAEfHXFNXG8HFBOM+lCktgigCTIA4NGR0pg6kUh570APdvlxnimr\\njgcUjL0FJgbeB81AAwAcUhHPH4U484NAZQcd6BicKtMB7+vepGGW5xTWXpQAnTntSbh2pxXK4poA\\nUYxQA4MoBBUkEdj3qPNLnmjvQAobAI705W7Co8DHJ5qRCFzkbuOPagBOdwJobBHAozkUh4FACdKa\\nRkE0vGOtIfu8HimBWdeTjpVObkZNXJQSTzVKX3pollV+tNp7dTUeMUyReKbmnHmkApiG001JimHB\\nOKAG0qgbsijb6UiZ3UAejKc8mnE55pAcoKXcMdCayNyLPvT1Py5xzmkfpkdaRASPm70wI5yVZSAC\\nDUYZvM4HFSXOFiDA4beoHGaCMe9IBMszUYKjrSBzu9qTLbjjoTQBKGwaa53DJ6U04Zs+nFG4ggdq\\nYCqdvfqKCRkUzfu4xRk7vwoEPD575oIJNGPlp5PygetAArEgc9KkPA5496gGAMinhywAPWgBpLBs\\n4IpOWYkg1K7DaAajO4DI4oAR+D8ucY70zBzmnbix5PSncHjvQA5SigZzUZOGoYEbeDj2okbCgY4z\\nTANwycdqjzkbu2aAQCfpSKdi59e1ADnGOTzn0pmDgjHy+tKrEjOKf5nGMA5oEQ28ZjQIHZuScsec\\nZqUqFYHPWmAlT049KRyecikIVowFznJ7UHKqT6+tMWU7doA65z3pN2T3NACnpzQp+Xr3pCeMYpgY\\nmTA6UAPPHUVGcbqcSW65/GmliMcUAIy/KaSMZyATTgwxk9aFfawoEPVAO+TTSCOvejcQ/wBaczbh\\ng0DI889aCvORQfSkH3eeKAE/WhuuQMUhPGBQzDPA4oGAY0u/sKZ0JxSjnmgBc80E9h070nIPTNDc\\nZIFADT9eKTOByaAc9qCcdaAEzmngU0Y9KeKADvxQSNhBpxIGMVGTzimAwnI4prFgMU6mMxzQBXkJ\\nOaryglatNxmqzk7SaaJZSYc02pGHNMxzTJGk4oWlIxQDz0piFJwKYRTzyaTgmgBhGBnNIh+enNjG\\nKYODkUDPRA6nvTwVApnloeASMVIiKOuDWRsGQTyDimMwLVMuAeaicqWIApiK10xMIxjh1/HmlD54\\nIwaLoKsQbqQy/wAxTSc8ng+lIYpp4GRULNznNCyDJXJ5HSmBMMGkdQuDimKcdKesmM7qBDCQo6c0\\n1W+bJpXTIJzTUXnPU0wJkGQTSsR1P60mSBSFgetAD3H7vIODTFx3OPegk7u1KQCRxQIVMEnJ4HrS\\nuykYGcmmlTUartPvQA8Jnvn60jKFk4P40A5YYNOf71AxVkH0+tMJycUjNgZIP4UgYcDuaBDGwG4p\\nHYEfzpH4z60DGOaAANjgd6XlSCKFKluuBj0pGyXHJxQA5s4poORSyHnGc0zjp3oEJ0zmgEZ3UjA+\\nufakAOM8jNAD25OeKFQcndgnmmhWADZ4NLuwDQAMCpAyCKjPpSg7hnNIeeKQDOho4z1p5BA+tNUf\\nMOe9AhT8oB70ueaCATTThWyOaYCjHqKaxAPHNJkUmcDNAxw5Gaac7+aUetIxycUAL070m7FFMxhs\\n0DH5zTcnOBRnNLnmgBrNhsU7gDmmsM0hzQAFvnp4Izg1CR3zTl69aBEh6imtk073prZPSgYwk01u\\nR0pzKaaDxj0oEQucHmq7sChHrVmT5hzVdkGKaEyoQKb9Ke64ptMQnsaTHPtS96KBCH0poHNOIzSE\\nZphYQioz1pzZHTpTVHPvQB34O5e4+tKpPY8UDGOaYxyMdqzNSxtJGSc0wYDHmogxK+9Ju5560ybj\\nrtgLdyeABn8uarqS5Ldu1SXLE2kv+4f5VGgJRcdwKRSFwSPmzzSjaDjHNA3beTyKjZmPSgGS78dK\\nQgtz2pQrBc0Esq5wD7GmAqZYFc8UIu1iT2pFIDA08sM5oAecVFIQvFOd+M8Uw8nJ5oAUqxAK8ZoZ\\nsNgmm7sMcZxSFgTkjn1oAd5hAz1NKDkZzTD93J/IU7gdO9AhwG0nHQ0jYJBz09KQNzyaC3GB0zmg\\nBGOT6UmT0HBpWcelMJOOT1oARicjFChiTnpSrtPJPNSKhVTtNAESqRnnFKcY4PNPC5ByKjfIxgYo\\nACAF9TUWGzjODT8g4B4o79KBDT9aeq5XrTc7ckg07eCBjOKAI3JGAOKOCOTTnAZTUQHBFACqADnP\\nFITx1zSkDYMYpoxQAbjjrxSZoJFOA4zQAvNNYYIp/K0zJ3HNAAwAUHB9qaM7eKkZuMVFuOOlACAs\\nDz0p2QevNITz0pM9TQAc54PFL1PtUYYnin7gKBiZ7Y5oJxxQemRQBkZoAX2zTT0PtTcYfBpWGV60\\nAIf1poPz8Gkzt96Ve5FAEwPc0055IoTlD7UnPegBuWzz0pCwI460MSKZmgQx84zULGpmqB+T0oQM\\nrvyxpm3nrTzycGmnriqJGk0uOKTFKaAEppzS5ozmgQxsmkUc1I2MUxOO9MDuJCycgZBpcF04qZgO\\n35Uwnr2rNGzIdhAwDzQFOcZqPdKM/LxTC7CQsV6+tUZliUAWzg85Uj9KggkbYh6jaMVLuDxbWBxj\\nmq8TYjVQcgDFJlIsjBG79KgyS59M0uccU4EZNAyWIg5JPXtUbqwOBnHvTk27gc+1Eh3PnPFAEfIb\\njnPFSEcfNTQAKGIK55oAjOW78VIORjPFNUcZJpEPegRJgbcYqPGDTi2OtBcAUAJ9KlVQo55OKjB+\\nbIIxQXOeaYC7QMZpCTjjpnrQ7YUVGzA4xzQBJ5YIyTTXGSBngUoJHrimO1AiRFH4CpSp4wagXOwH\\npmnRswbA5pAPbKg81Hhj96nnJPPWlOCoBPNMCJgMUFs+nFNYgAnPFNJ6e9ADmAI6c0i4BoVsNg9K\\nG69KAFC4QnNRMOc8c098lMUwdRigBrAjtwaQYI5qVjgbT3qMjDHNAxCvfNKW44pOxPam0hEp5FJg\\nnmg9KMEjAoAYT82P1oxg0MKbQAPgY7UDkUdacB3oAZgdqacg8ilJ2mkJB5oAcDgZxk0/jHUVHkcU\\nHjkGgYrKCc9zQ2AM03cCKaTQA3Gc0+NeDnvSFhihTzQBMmAMU1uvNKD8pNRnrQMJB6VHjvS7ufal\\nIz0oERN71A+cVYcDFQMOMUxMqNmmnmpH44qOmSHSkJzQTRntQJhikxzQDmg88UABXrzTFQ5p3SlX\\nimB//9k=\\n\"}\n"
          ],
          "name": "stdout"
        },
        {
          "output_type": "execute_result",
          "data": {
            "application/vnd.google.colaboratory.intrinsic+json": {
              "type": "string"
            },
            "text/plain": [
              "'[{\"name\": \"cardboard\", \"confident\": 0.9994144439697266}, {\"name\": \"glass\", \"confident\": 0.00010214486246695742}, {\"name\": \"metal\", \"confident\": 0.00012465484905987978}, {\"name\": \"paper\", \"confident\": 0.0003468661743681878}, {\"name\": \"plastic\", \"confident\": 1.2077418432454579e-05}]'"
            ]
          },
          "metadata": {
            "tags": []
          },
          "execution_count": 21
        }
      ]
    }
  ]
}